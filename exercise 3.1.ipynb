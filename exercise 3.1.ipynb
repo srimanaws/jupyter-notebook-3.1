{
 "cells": [
  {
   "cell_type": "code",
   "execution_count": 2,
   "id": "0f6df4fc-f103-471d-ac83-06fff653dfba",
   "metadata": {},
   "outputs": [
    {
     "name": "stdin",
     "output_type": "stream",
     "text": [
      "Enter result (1=pass, 2=fail):  7\n"
     ]
    },
    {
     "name": "stdout",
     "output_type": "stream",
     "text": [
      "Invalid input. Please enter 1 for pass or 2 for fail.\n"
     ]
    },
    {
     "name": "stdin",
     "output_type": "stream",
     "text": [
      "Enter result (1=pass, 2=fail):  1\n",
      "Enter result (1=pass, 2=fail):  2\n",
      "Enter result (1=pass, 2=fail):  1\n",
      "Enter result (1=pass, 2=fail):  1\n",
      "Enter result (1=pass, 2=fail):  1\n",
      "Enter result (1=pass, 2=fail):  1\n",
      "Enter result (1=pass, 2=fail):  1\n",
      "Enter result (1=pass, 2=fail):  1\n",
      "Enter result (1=pass, 2=fail):  1\n",
      "Enter result (1=pass, 2=fail):  1\n"
     ]
    },
    {
     "name": "stdout",
     "output_type": "stream",
     "text": [
      "Passed: 9\n",
      "Failed: 1\n",
      "Bonus to instructor!\n"
     ]
    }
   ],
   "source": [
    "# Exercise by sriman\n",
    "# Examination Results Analysis\n",
    "# This program will track how many students passed or failed their exams.\n",
    "# It keeps asking for user input until it has results for 10 students.\n",
    "\n",
    "# Initialize counters for passes and failures\n",
    "passes = 0\n",
    "failures = 0\n",
    "\n",
    "# Process exam results for 10 students\n",
    "for student in range(10):\n",
    "    # Ask for input and keep asking if input is not 1 or 2\n",
    "    result = int(input('Enter result (1=pass, 2=fail): '))\n",
    "    \n",
    "    # Keep asking if the result is neither 1 nor 2\n",
    "    while result != 1 and result != 2:\n",
    "        print(\"Invalid input. Please enter 1 for pass or 2 for fail.\")\n",
    "        result = int(input('Enter result (1=pass, 2=fail): '))\n",
    "    \n",
    "    # If the result is 1, increment the passes counter\n",
    "    if result == 1:\n",
    "        passes += 1\n",
    "    else:\n",
    "        # Otherwise, increment the failures counter\n",
    "        failures += 1\n",
    "\n",
    "# After processing all students, display the total number of passes and failures\n",
    "print(f'Passed: {passes}')\n",
    "print(f'Failed: {failures}')\n",
    "\n",
    "# If more than 8 students passed, print a special message\n",
    "if passes > 8:\n",
    "    print('Bonus to instructor!')\n"
   ]
  },
  {
   "cell_type": "code",
   "execution_count": null,
   "id": "5db09a4b-8d15-456d-b4f2-50b9485d42ed",
   "metadata": {},
   "outputs": [],
   "source": []
  }
 ],
 "metadata": {
  "kernelspec": {
   "display_name": "Python 3 (ipykernel)",
   "language": "python",
   "name": "python3"
  },
  "language_info": {
   "codemirror_mode": {
    "name": "ipython",
    "version": 3
   },
   "file_extension": ".py",
   "mimetype": "text/x-python",
   "name": "python",
   "nbconvert_exporter": "python",
   "pygments_lexer": "ipython3",
   "version": "3.12.4"
  }
 },
 "nbformat": 4,
 "nbformat_minor": 5
}
